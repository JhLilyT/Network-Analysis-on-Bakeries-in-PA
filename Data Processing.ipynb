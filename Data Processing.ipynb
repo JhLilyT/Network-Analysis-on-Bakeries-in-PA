{
 "cells": [
  {
   "cell_type": "markdown",
   "metadata": {},
   "source": [
    "# Data processing"
   ]
  },
  {
   "cell_type": "code",
   "execution_count": 36,
   "metadata": {
    "collapsed": true
   },
   "outputs": [],
   "source": [
    "#Import Library\n",
    "import pandas as pd\n",
    "#import simplejson\n",
    "import json\n",
    "%matplotlib inline"
   ]
  },
  {
   "cell_type": "code",
   "execution_count": 3,
   "metadata": {},
   "outputs": [],
   "source": [
    "#Import yelp data - business\n",
    "yelp_files1 = \"yelp_academic_dataset_business.json\"\n",
    "yelp_business = []\n",
    "with open(yelp_files1) as f:\n",
    "  for line in f:\n",
    "    yelp_business.append(json.loads(line))"
   ]
  },
  {
   "cell_type": "code",
   "execution_count": 5,
   "metadata": {},
   "outputs": [
    {
     "data": {
      "text/plain": [
       "[{'address': '227 E Baseline Rd, Ste J2',\n",
       "  'attributes': ['BikeParking: True',\n",
       "   'BusinessAcceptsBitcoin: False',\n",
       "   'BusinessAcceptsCreditCards: True',\n",
       "   \"BusinessParking: {'garage': False, 'street': False, 'validated': False, 'lot': True, 'valet': False}\",\n",
       "   'DogsAllowed: False',\n",
       "   'RestaurantsPriceRange2: 2',\n",
       "   'WheelchairAccessible: True'],\n",
       "  'business_id': '0DI8Dt2PJp07XkVvIElIcQ',\n",
       "  'categories': ['Tobacco Shops', 'Nightlife', 'Vape Shops', 'Shopping'],\n",
       "  'city': 'Tempe',\n",
       "  'hours': ['Monday 11:0-21:0',\n",
       "   'Tuesday 11:0-21:0',\n",
       "   'Wednesday 11:0-21:0',\n",
       "   'Thursday 11:0-21:0',\n",
       "   'Friday 11:0-22:0',\n",
       "   'Saturday 10:0-22:0',\n",
       "   'Sunday 11:0-18:0'],\n",
       "  'is_open': 0,\n",
       "  'latitude': 33.3782141,\n",
       "  'longitude': -111.936102,\n",
       "  'name': 'Innovative Vapors',\n",
       "  'neighborhood': '',\n",
       "  'postal_code': '85283',\n",
       "  'review_count': 17,\n",
       "  'stars': 4.5,\n",
       "  'state': 'AZ',\n",
       "  'type': 'business'}]"
      ]
     },
     "execution_count": 5,
     "metadata": {},
     "output_type": "execute_result"
    }
   ],
   "source": [
    "#Preview the json file\n",
    "yelp_business[:1]"
   ]
  },
  {
   "cell_type": "code",
   "execution_count": 6,
   "metadata": {
    "collapsed": true
   },
   "outputs": [],
   "source": [
    "#Import yelp data - review\n",
    "yelp_files2 = \"yelp_academic_dataset_review.json\"\n",
    "yelp_review = []\n",
    "with open(yelp_files2) as f:\n",
    "  for line in f:\n",
    "    yelp_review.append(json.loads(line))"
   ]
  },
  {
   "cell_type": "code",
   "execution_count": 7,
   "metadata": {},
   "outputs": [
    {
     "data": {
      "text/plain": [
       "[{'business_id': '2aFiy99vNLklCx3T_tGS9A',\n",
       "  'cool': 0,\n",
       "  'date': '2011-10-10',\n",
       "  'funny': 0,\n",
       "  'review_id': 'NxL8SIC5yqOdnlXCg18IBg',\n",
       "  'stars': 5,\n",
       "  'text': \"If you enjoy service by someone who is as competent as he is personable, I would recommend Corey Kaplan highly. The time he has spent here has been very productive and working with him educational and enjoyable. I hope not to need him again (though this is highly unlikely) but knowing he is there if I do is very nice. By the way, I'm not from El Centro, CA. but Scottsdale, AZ.\",\n",
       "  'type': 'review',\n",
       "  'useful': 0,\n",
       "  'user_id': 'KpkOkG6RIf4Ra25Lhhxf1A'}]"
      ]
     },
     "execution_count": 7,
     "metadata": {},
     "output_type": "execute_result"
    }
   ],
   "source": [
    "yelp_review[:1]"
   ]
  },
  {
   "cell_type": "code",
   "execution_count": 8,
   "metadata": {
    "collapsed": true
   },
   "outputs": [],
   "source": [
    "#Convert to dataframe\n",
    "pd_review = pd.DataFrame(yelp_review)\n",
    "pd_business = pd.DataFrame(yelp_business)"
   ]
  },
  {
   "cell_type": "code",
   "execution_count": 9,
   "metadata": {},
   "outputs": [
    {
     "data": {
      "text/html": [
       "<div>\n",
       "<table border=\"1\" class=\"dataframe\">\n",
       "  <thead>\n",
       "    <tr style=\"text-align: right;\">\n",
       "      <th></th>\n",
       "      <th>business_id</th>\n",
       "      <th>cool</th>\n",
       "      <th>date</th>\n",
       "      <th>funny</th>\n",
       "      <th>review_id</th>\n",
       "      <th>stars</th>\n",
       "      <th>text</th>\n",
       "      <th>type</th>\n",
       "      <th>useful</th>\n",
       "      <th>user_id</th>\n",
       "    </tr>\n",
       "  </thead>\n",
       "  <tbody>\n",
       "    <tr>\n",
       "      <th>0</th>\n",
       "      <td>2aFiy99vNLklCx3T_tGS9A</td>\n",
       "      <td>0</td>\n",
       "      <td>2011-10-10</td>\n",
       "      <td>0</td>\n",
       "      <td>NxL8SIC5yqOdnlXCg18IBg</td>\n",
       "      <td>5</td>\n",
       "      <td>If you enjoy service by someone who is as comp...</td>\n",
       "      <td>review</td>\n",
       "      <td>0</td>\n",
       "      <td>KpkOkG6RIf4Ra25Lhhxf1A</td>\n",
       "    </tr>\n",
       "    <tr>\n",
       "      <th>1</th>\n",
       "      <td>2aFiy99vNLklCx3T_tGS9A</td>\n",
       "      <td>0</td>\n",
       "      <td>2010-12-29</td>\n",
       "      <td>0</td>\n",
       "      <td>pXbbIgOXvLuTi_SPs1hQEQ</td>\n",
       "      <td>5</td>\n",
       "      <td>After being on the phone with Verizon Wireless...</td>\n",
       "      <td>review</td>\n",
       "      <td>1</td>\n",
       "      <td>bQ7fQq1otn9hKX-gXRsrgA</td>\n",
       "    </tr>\n",
       "    <tr>\n",
       "      <th>2</th>\n",
       "      <td>2aFiy99vNLklCx3T_tGS9A</td>\n",
       "      <td>0</td>\n",
       "      <td>2011-04-29</td>\n",
       "      <td>0</td>\n",
       "      <td>wslW2Lu4NYylb1jEapAGsw</td>\n",
       "      <td>5</td>\n",
       "      <td>Great service! Corey is very service oriented....</td>\n",
       "      <td>review</td>\n",
       "      <td>0</td>\n",
       "      <td>r1NUhdNmL6yU9Bn-Yx6FTw</td>\n",
       "    </tr>\n",
       "    <tr>\n",
       "      <th>3</th>\n",
       "      <td>2LfIuF3_sX6uwe-IR-P0jQ</td>\n",
       "      <td>1</td>\n",
       "      <td>2014-07-14</td>\n",
       "      <td>0</td>\n",
       "      <td>GP6YEearUWrzPtQYSF1vVg</td>\n",
       "      <td>5</td>\n",
       "      <td>Highly recommended. Went in yesterday looking ...</td>\n",
       "      <td>review</td>\n",
       "      <td>0</td>\n",
       "      <td>aW3ix1KNZAvoM8q-WghA3Q</td>\n",
       "    </tr>\n",
       "    <tr>\n",
       "      <th>4</th>\n",
       "      <td>2LfIuF3_sX6uwe-IR-P0jQ</td>\n",
       "      <td>0</td>\n",
       "      <td>2014-01-15</td>\n",
       "      <td>0</td>\n",
       "      <td>25RlYGq2s5qShi-pn3ufVA</td>\n",
       "      <td>4</td>\n",
       "      <td>I walked in here looking for a specific piece ...</td>\n",
       "      <td>review</td>\n",
       "      <td>0</td>\n",
       "      <td>YOo-Cip8HqvKp_p9nEGphw</td>\n",
       "    </tr>\n",
       "  </tbody>\n",
       "</table>\n",
       "</div>"
      ],
      "text/plain": [
       "              business_id  cool        date  funny               review_id  \\\n",
       "0  2aFiy99vNLklCx3T_tGS9A     0  2011-10-10      0  NxL8SIC5yqOdnlXCg18IBg   \n",
       "1  2aFiy99vNLklCx3T_tGS9A     0  2010-12-29      0  pXbbIgOXvLuTi_SPs1hQEQ   \n",
       "2  2aFiy99vNLklCx3T_tGS9A     0  2011-04-29      0  wslW2Lu4NYylb1jEapAGsw   \n",
       "3  2LfIuF3_sX6uwe-IR-P0jQ     1  2014-07-14      0  GP6YEearUWrzPtQYSF1vVg   \n",
       "4  2LfIuF3_sX6uwe-IR-P0jQ     0  2014-01-15      0  25RlYGq2s5qShi-pn3ufVA   \n",
       "\n",
       "   stars                                               text    type  useful  \\\n",
       "0      5  If you enjoy service by someone who is as comp...  review       0   \n",
       "1      5  After being on the phone with Verizon Wireless...  review       1   \n",
       "2      5  Great service! Corey is very service oriented....  review       0   \n",
       "3      5  Highly recommended. Went in yesterday looking ...  review       0   \n",
       "4      4  I walked in here looking for a specific piece ...  review       0   \n",
       "\n",
       "                  user_id  \n",
       "0  KpkOkG6RIf4Ra25Lhhxf1A  \n",
       "1  bQ7fQq1otn9hKX-gXRsrgA  \n",
       "2  r1NUhdNmL6yU9Bn-Yx6FTw  \n",
       "3  aW3ix1KNZAvoM8q-WghA3Q  \n",
       "4  YOo-Cip8HqvKp_p9nEGphw  "
      ]
     },
     "execution_count": 9,
     "metadata": {},
     "output_type": "execute_result"
    }
   ],
   "source": [
    "#Preview dataframe\n",
    "pd_review.head()"
   ]
  },
  {
   "cell_type": "code",
   "execution_count": 10,
   "metadata": {},
   "outputs": [
    {
     "data": {
      "text/html": [
       "<div>\n",
       "<table border=\"1\" class=\"dataframe\">\n",
       "  <thead>\n",
       "    <tr style=\"text-align: right;\">\n",
       "      <th></th>\n",
       "      <th>address</th>\n",
       "      <th>attributes</th>\n",
       "      <th>business_id</th>\n",
       "      <th>categories</th>\n",
       "      <th>city</th>\n",
       "      <th>hours</th>\n",
       "      <th>is_open</th>\n",
       "      <th>latitude</th>\n",
       "      <th>longitude</th>\n",
       "      <th>name</th>\n",
       "      <th>neighborhood</th>\n",
       "      <th>postal_code</th>\n",
       "      <th>review_count</th>\n",
       "      <th>stars</th>\n",
       "      <th>state</th>\n",
       "      <th>type</th>\n",
       "    </tr>\n",
       "  </thead>\n",
       "  <tbody>\n",
       "    <tr>\n",
       "      <th>0</th>\n",
       "      <td>227 E Baseline Rd, Ste J2</td>\n",
       "      <td>[BikeParking: True, BusinessAcceptsBitcoin: Fa...</td>\n",
       "      <td>0DI8Dt2PJp07XkVvIElIcQ</td>\n",
       "      <td>[Tobacco Shops, Nightlife, Vape Shops, Shopping]</td>\n",
       "      <td>Tempe</td>\n",
       "      <td>[Monday 11:0-21:0, Tuesday 11:0-21:0, Wednesda...</td>\n",
       "      <td>0</td>\n",
       "      <td>33.378214</td>\n",
       "      <td>-111.936102</td>\n",
       "      <td>Innovative Vapors</td>\n",
       "      <td></td>\n",
       "      <td>85283</td>\n",
       "      <td>17</td>\n",
       "      <td>4.5</td>\n",
       "      <td>AZ</td>\n",
       "      <td>business</td>\n",
       "    </tr>\n",
       "    <tr>\n",
       "      <th>1</th>\n",
       "      <td>495 S Grand Central Pkwy</td>\n",
       "      <td>[BusinessAcceptsBitcoin: False, BusinessAccept...</td>\n",
       "      <td>LTlCaCGZE14GuaUXUGbamg</td>\n",
       "      <td>[Caterers, Grocery, Food, Event Planning &amp; Ser...</td>\n",
       "      <td>Las Vegas</td>\n",
       "      <td>[Monday 0:0-0:0, Tuesday 0:0-0:0, Wednesday 0:...</td>\n",
       "      <td>1</td>\n",
       "      <td>36.192284</td>\n",
       "      <td>-115.159272</td>\n",
       "      <td>Cut and Taste</td>\n",
       "      <td></td>\n",
       "      <td>89106</td>\n",
       "      <td>9</td>\n",
       "      <td>5.0</td>\n",
       "      <td>NV</td>\n",
       "      <td>business</td>\n",
       "    </tr>\n",
       "    <tr>\n",
       "      <th>2</th>\n",
       "      <td>979 Bloor Street W</td>\n",
       "      <td>[Alcohol: none, Ambience: {'romantic': False, ...</td>\n",
       "      <td>EDqCEAGXVGCH4FJXgqtjqg</td>\n",
       "      <td>[Restaurants, Pizza, Chicken Wings, Italian]</td>\n",
       "      <td>Toronto</td>\n",
       "      <td>[Monday 11:0-2:0, Tuesday 11:0-2:0, Wednesday ...</td>\n",
       "      <td>1</td>\n",
       "      <td>43.661054</td>\n",
       "      <td>-79.429089</td>\n",
       "      <td>Pizza Pizza</td>\n",
       "      <td>Dufferin Grove</td>\n",
       "      <td>M6H 1L5</td>\n",
       "      <td>7</td>\n",
       "      <td>2.5</td>\n",
       "      <td>ON</td>\n",
       "      <td>business</td>\n",
       "    </tr>\n",
       "    <tr>\n",
       "      <th>3</th>\n",
       "      <td>7014 Steubenville Pike</td>\n",
       "      <td>[AcceptsInsurance: False, BusinessAcceptsCredi...</td>\n",
       "      <td>cnGIivYRLxpF7tBVR_JwWA</td>\n",
       "      <td>[Hair Removal, Beauty &amp; Spas, Blow Dry/Out Ser...</td>\n",
       "      <td>Oakdale</td>\n",
       "      <td>[Tuesday 10:0-21:0, Wednesday 10:0-21:0, Thurs...</td>\n",
       "      <td>1</td>\n",
       "      <td>40.444544</td>\n",
       "      <td>-80.174540</td>\n",
       "      <td>Plush Salon and Spa</td>\n",
       "      <td></td>\n",
       "      <td>15071</td>\n",
       "      <td>4</td>\n",
       "      <td>4.0</td>\n",
       "      <td>PA</td>\n",
       "      <td>business</td>\n",
       "    </tr>\n",
       "    <tr>\n",
       "      <th>4</th>\n",
       "      <td>321 Jarvis Street</td>\n",
       "      <td>[BusinessAcceptsCreditCards: True, Restaurants...</td>\n",
       "      <td>cdk-qqJ71q6P7TJTww_DSA</td>\n",
       "      <td>[Hotels &amp; Travel, Event Planning &amp; Services, H...</td>\n",
       "      <td>Toronto</td>\n",
       "      <td>None</td>\n",
       "      <td>1</td>\n",
       "      <td>43.659829</td>\n",
       "      <td>-79.375401</td>\n",
       "      <td>Comfort Inn</td>\n",
       "      <td>Downtown Core</td>\n",
       "      <td>M5B 2C2</td>\n",
       "      <td>8</td>\n",
       "      <td>3.0</td>\n",
       "      <td>ON</td>\n",
       "      <td>business</td>\n",
       "    </tr>\n",
       "  </tbody>\n",
       "</table>\n",
       "</div>"
      ],
      "text/plain": [
       "                     address  \\\n",
       "0  227 E Baseline Rd, Ste J2   \n",
       "1   495 S Grand Central Pkwy   \n",
       "2         979 Bloor Street W   \n",
       "3     7014 Steubenville Pike   \n",
       "4          321 Jarvis Street   \n",
       "\n",
       "                                          attributes             business_id  \\\n",
       "0  [BikeParking: True, BusinessAcceptsBitcoin: Fa...  0DI8Dt2PJp07XkVvIElIcQ   \n",
       "1  [BusinessAcceptsBitcoin: False, BusinessAccept...  LTlCaCGZE14GuaUXUGbamg   \n",
       "2  [Alcohol: none, Ambience: {'romantic': False, ...  EDqCEAGXVGCH4FJXgqtjqg   \n",
       "3  [AcceptsInsurance: False, BusinessAcceptsCredi...  cnGIivYRLxpF7tBVR_JwWA   \n",
       "4  [BusinessAcceptsCreditCards: True, Restaurants...  cdk-qqJ71q6P7TJTww_DSA   \n",
       "\n",
       "                                          categories       city  \\\n",
       "0   [Tobacco Shops, Nightlife, Vape Shops, Shopping]      Tempe   \n",
       "1  [Caterers, Grocery, Food, Event Planning & Ser...  Las Vegas   \n",
       "2       [Restaurants, Pizza, Chicken Wings, Italian]    Toronto   \n",
       "3  [Hair Removal, Beauty & Spas, Blow Dry/Out Ser...    Oakdale   \n",
       "4  [Hotels & Travel, Event Planning & Services, H...    Toronto   \n",
       "\n",
       "                                               hours  is_open   latitude  \\\n",
       "0  [Monday 11:0-21:0, Tuesday 11:0-21:0, Wednesda...        0  33.378214   \n",
       "1  [Monday 0:0-0:0, Tuesday 0:0-0:0, Wednesday 0:...        1  36.192284   \n",
       "2  [Monday 11:0-2:0, Tuesday 11:0-2:0, Wednesday ...        1  43.661054   \n",
       "3  [Tuesday 10:0-21:0, Wednesday 10:0-21:0, Thurs...        1  40.444544   \n",
       "4                                               None        1  43.659829   \n",
       "\n",
       "    longitude                 name    neighborhood postal_code  review_count  \\\n",
       "0 -111.936102    Innovative Vapors                       85283            17   \n",
       "1 -115.159272        Cut and Taste                       89106             9   \n",
       "2  -79.429089          Pizza Pizza  Dufferin Grove     M6H 1L5             7   \n",
       "3  -80.174540  Plush Salon and Spa                       15071             4   \n",
       "4  -79.375401          Comfort Inn   Downtown Core     M5B 2C2             8   \n",
       "\n",
       "   stars state      type  \n",
       "0    4.5    AZ  business  \n",
       "1    5.0    NV  business  \n",
       "2    2.5    ON  business  \n",
       "3    4.0    PA  business  \n",
       "4    3.0    ON  business  "
      ]
     },
     "execution_count": 10,
     "metadata": {},
     "output_type": "execute_result"
    }
   ],
   "source": [
    "pd_business.head()"
   ]
  },
  {
   "cell_type": "code",
   "execution_count": 19,
   "metadata": {},
   "outputs": [
    {
     "name": "stdout",
     "output_type": "stream",
     "text": [
      "Review: (4153150, 10) Busines: (144072, 16)\n"
     ]
    }
   ],
   "source": [
    "#Size of review and business\n",
    "print(\"Review:\", pd_review.shape,\"Busines:\" , pd_business.shape)"
   ]
  },
  {
   "cell_type": "markdown",
   "metadata": {},
   "source": [
    "## Target bakies restaurant"
   ]
  },
  {
   "cell_type": "code",
   "execution_count": 20,
   "metadata": {},
   "outputs": [
    {
     "data": {
      "text/plain": [
       "address             0\n",
       "attributes      16910\n",
       "business_id         0\n",
       "categories        325\n",
       "city                0\n",
       "hours           41608\n",
       "is_open             0\n",
       "latitude            0\n",
       "longitude           0\n",
       "name                0\n",
       "neighborhood        0\n",
       "postal_code         0\n",
       "review_count        0\n",
       "stars               0\n",
       "state               0\n",
       "type                0\n",
       "dtype: int64"
      ]
     },
     "execution_count": 20,
     "metadata": {},
     "output_type": "execute_result"
    }
   ],
   "source": [
    "#Check missing values in categories\n",
    "pd_business.isnull().sum()"
   ]
  },
  {
   "cell_type": "code",
   "execution_count": 21,
   "metadata": {
    "collapsed": true
   },
   "outputs": [],
   "source": [
    "#Remove rows which categories is null\n",
    "pd_business = pd_business[pd_business['categories'].notnull()]"
   ]
  },
  {
   "cell_type": "code",
   "execution_count": 24,
   "metadata": {},
   "outputs": [],
   "source": [
    "#Create a ContainBakeries Boolean\n",
    "pd_business['ContainBakeries'] = pd_business['categories'].apply(lambda x: 1 if \"Bakeries\" in x and x is not None else 0)"
   ]
  },
  {
   "cell_type": "code",
   "execution_count": 27,
   "metadata": {},
   "outputs": [
    {
     "data": {
      "text/plain": [
       "ContainBakeries\n",
       "0    140972\n",
       "1      2775\n",
       "dtype: int64"
      ]
     },
     "execution_count": 27,
     "metadata": {},
     "output_type": "execute_result"
    }
   ],
   "source": [
    "pd_business.groupby([\"ContainBakeries\"]).size()"
   ]
  },
  {
   "cell_type": "code",
   "execution_count": 33,
   "metadata": {},
   "outputs": [],
   "source": [
    "#Filter bakeries restaurents\n",
    "pd_bakeries = pd_business[pd_business['ContainBakeries']==1]"
   ]
  },
  {
   "cell_type": "code",
   "execution_count": 34,
   "metadata": {},
   "outputs": [
    {
     "data": {
      "text/plain": [
       "state\n",
       "AZ     511\n",
       "BW      85\n",
       "EDH     82\n",
       "ELN      1\n",
       "ESX      1\n",
       "HLD      2\n",
       "IL      37\n",
       "MLN      3\n",
       "NC     153\n",
       "NV     355\n",
       "OH     251\n",
       "ON     793\n",
       "PA     157\n",
       "QC     258\n",
       "SC       9\n",
       "WI      77\n",
       "dtype: int64"
      ]
     },
     "execution_count": 34,
     "metadata": {},
     "output_type": "execute_result"
    }
   ],
   "source": [
    "pd_bakeries.groupby([\"state\"]).size()"
   ]
  },
  {
   "cell_type": "code",
   "execution_count": 41,
   "metadata": {},
   "outputs": [
    {
     "data": {
      "text/plain": [
       "<matplotlib.axes._subplots.AxesSubplot at 0x2a0b667f0>"
      ]
     },
     "execution_count": 41,
     "metadata": {},
     "output_type": "execute_result"
    },
    {
     "data": {
      "image/png": "[encoded data removed]",
      "text/plain": [
       "<matplotlib.figure.Figure at 0x2a0b6f160>"
      ]
     },
     "metadata": {},
     "output_type": "display_data"
    }
   ],
   "source": [
    "pd_bakeries.state.value_counts().plot(kind='bar')"
   ]
  },
  {
   "cell_type": "code",
   "execution_count": 42,
   "metadata": {
    "collapsed": true
   },
   "outputs": [],
   "source": [
    "pd_bakeries_pa = pd_bakeries[pd_bakeries['state']==\"PA\"]"
   ]
  },
  {
   "cell_type": "code",
   "execution_count": 44,
   "metadata": {},
   "outputs": [
    {
     "name": "stdout",
     "output_type": "stream",
     "text": [
      "No of bakeries in PA: 157\n"
     ]
    }
   ],
   "source": [
    "print(\"No of bakeries in PA:\" ,len(pd_bakeries_pa))"
   ]
  },
  {
   "cell_type": "code",
   "execution_count": 45,
   "metadata": {},
   "outputs": [
    {
     "data": {
      "text/html": [
       "<div>\n",
       "<table border=\"1\" class=\"dataframe\">\n",
       "  <thead>\n",
       "    <tr style=\"text-align: right;\">\n",
       "      <th></th>\n",
       "      <th>address</th>\n",
       "      <th>attributes</th>\n",
       "      <th>business_id</th>\n",
       "      <th>categories</th>\n",
       "      <th>city</th>\n",
       "      <th>hours</th>\n",
       "      <th>is_open</th>\n",
       "      <th>latitude</th>\n",
       "      <th>longitude</th>\n",
       "      <th>name</th>\n",
       "      <th>neighborhood</th>\n",
       "      <th>postal_code</th>\n",
       "      <th>review_count</th>\n",
       "      <th>stars</th>\n",
       "      <th>state</th>\n",
       "      <th>type</th>\n",
       "      <th>ContainBakeries</th>\n",
       "    </tr>\n",
       "  </thead>\n",
       "  <tbody>\n",
       "    <tr>\n",
       "      <th>107</th>\n",
       "      <td>2627 Penn Ave</td>\n",
       "      <td>[BikeParking: True, BusinessAcceptsCreditCards...</td>\n",
       "      <td>HWrbZS1mxVRj2Y2VwMmDMg</td>\n",
       "      <td>[Food, Bakeries]</td>\n",
       "      <td>Pittsburgh</td>\n",
       "      <td>None</td>\n",
       "      <td>0</td>\n",
       "      <td>40.455351</td>\n",
       "      <td>-79.977728</td>\n",
       "      <td>Dulcinea Bakeshop</td>\n",
       "      <td>Strip District</td>\n",
       "      <td>15222</td>\n",
       "      <td>3</td>\n",
       "      <td>4.5</td>\n",
       "      <td>PA</td>\n",
       "      <td>business</td>\n",
       "      <td>1</td>\n",
       "    </tr>\n",
       "    <tr>\n",
       "      <th>788</th>\n",
       "      <td>US Highway 19</td>\n",
       "      <td>[BusinessAcceptsCreditCards: True, BusinessPar...</td>\n",
       "      <td>Yx7nuv4EVV-99PT1oR2AKw</td>\n",
       "      <td>[Food, Bakeries]</td>\n",
       "      <td>Wexford</td>\n",
       "      <td>None</td>\n",
       "      <td>1</td>\n",
       "      <td>40.613343</td>\n",
       "      <td>-80.053004</td>\n",
       "      <td>Dudt H D Bakery</td>\n",
       "      <td></td>\n",
       "      <td>15090</td>\n",
       "      <td>12</td>\n",
       "      <td>3.5</td>\n",
       "      <td>PA</td>\n",
       "      <td>business</td>\n",
       "      <td>1</td>\n",
       "    </tr>\n",
       "    <tr>\n",
       "      <th>1163</th>\n",
       "      <td>2110 Brighton Rd</td>\n",
       "      <td>[BikeParking: False, BusinessAcceptsCreditCard...</td>\n",
       "      <td>Uh6EhbFKgQlhVpfvnqsfHA</td>\n",
       "      <td>[Bakeries, Food, Restaurants, Event Planning &amp;...</td>\n",
       "      <td>Pittsburgh</td>\n",
       "      <td>[Monday 6:30-18:0, Tuesday 6:30-18:0, Wednesda...</td>\n",
       "      <td>1</td>\n",
       "      <td>40.461940</td>\n",
       "      <td>-80.019290</td>\n",
       "      <td>BreadWorks Bakery</td>\n",
       "      <td>North Side</td>\n",
       "      <td>15212</td>\n",
       "      <td>19</td>\n",
       "      <td>4.5</td>\n",
       "      <td>PA</td>\n",
       "      <td>business</td>\n",
       "      <td>1</td>\n",
       "    </tr>\n",
       "    <tr>\n",
       "      <th>1187</th>\n",
       "      <td>One Oxford Centre, 301 Grant Str</td>\n",
       "      <td>[BikeParking: True, BusinessAcceptsCreditCards...</td>\n",
       "      <td>EQEjBxW64QzleZHvRYA31A</td>\n",
       "      <td>[Food, Bakeries, Coffee &amp; Tea]</td>\n",
       "      <td>Pittsburgh</td>\n",
       "      <td>[Monday 5:30-18:30, Tuesday 5:30-18:30, Wednes...</td>\n",
       "      <td>1</td>\n",
       "      <td>40.438070</td>\n",
       "      <td>-79.998282</td>\n",
       "      <td>Starbucks</td>\n",
       "      <td>Downtown</td>\n",
       "      <td>15219</td>\n",
       "      <td>4</td>\n",
       "      <td>4.0</td>\n",
       "      <td>PA</td>\n",
       "      <td>business</td>\n",
       "      <td>1</td>\n",
       "    </tr>\n",
       "    <tr>\n",
       "      <th>2041</th>\n",
       "      <td>Quaker Village Shopping Ctr</td>\n",
       "      <td>[BikeParking: True, BusinessAcceptsCreditCards...</td>\n",
       "      <td>NWY04fnx_9bySycRrF4APQ</td>\n",
       "      <td>[Shopping, Bakeries, Videos &amp; Video Game Renta...</td>\n",
       "      <td>Leetsdale</td>\n",
       "      <td>None</td>\n",
       "      <td>1</td>\n",
       "      <td>40.561528</td>\n",
       "      <td>-80.205352</td>\n",
       "      <td>Giant Eagle</td>\n",
       "      <td></td>\n",
       "      <td>15056</td>\n",
       "      <td>3</td>\n",
       "      <td>1.5</td>\n",
       "      <td>PA</td>\n",
       "      <td>business</td>\n",
       "      <td>1</td>\n",
       "    </tr>\n",
       "  </tbody>\n",
       "</table>\n",
       "</div>"
      ],
      "text/plain": [
       "                               address  \\\n",
       "107                      2627 Penn Ave   \n",
       "788                      US Highway 19   \n",
       "1163                  2110 Brighton Rd   \n",
       "1187  One Oxford Centre, 301 Grant Str   \n",
       "2041       Quaker Village Shopping Ctr   \n",
       "\n",
       "                                             attributes  \\\n",
       "107   [BikeParking: True, BusinessAcceptsCreditCards...   \n",
       "788   [BusinessAcceptsCreditCards: True, BusinessPar...   \n",
       "1163  [BikeParking: False, BusinessAcceptsCreditCard...   \n",
       "1187  [BikeParking: True, BusinessAcceptsCreditCards...   \n",
       "2041  [BikeParking: True, BusinessAcceptsCreditCards...   \n",
       "\n",
       "                 business_id  \\\n",
       "107   HWrbZS1mxVRj2Y2VwMmDMg   \n",
       "788   Yx7nuv4EVV-99PT1oR2AKw   \n",
       "1163  Uh6EhbFKgQlhVpfvnqsfHA   \n",
       "1187  EQEjBxW64QzleZHvRYA31A   \n",
       "2041  NWY04fnx_9bySycRrF4APQ   \n",
       "\n",
       "                                             categories        city  \\\n",
       "107                                    [Food, Bakeries]  Pittsburgh   \n",
       "788                                    [Food, Bakeries]     Wexford   \n",
       "1163  [Bakeries, Food, Restaurants, Event Planning &...  Pittsburgh   \n",
       "1187                     [Food, Bakeries, Coffee & Tea]  Pittsburgh   \n",
       "2041  [Shopping, Bakeries, Videos & Video Game Renta...   Leetsdale   \n",
       "\n",
       "                                                  hours  is_open   latitude  \\\n",
       "107                                                None        0  40.455351   \n",
       "788                                                None        1  40.613343   \n",
       "1163  [Monday 6:30-18:0, Tuesday 6:30-18:0, Wednesda...        1  40.461940   \n",
       "1187  [Monday 5:30-18:30, Tuesday 5:30-18:30, Wednes...        1  40.438070   \n",
       "2041                                               None        1  40.561528   \n",
       "\n",
       "      longitude               name    neighborhood postal_code  review_count  \\\n",
       "107  -79.977728  Dulcinea Bakeshop  Strip District       15222             3   \n",
       "788  -80.053004    Dudt H D Bakery                       15090            12   \n",
       "1163 -80.019290  BreadWorks Bakery      North Side       15212            19   \n",
       "1187 -79.998282          Starbucks        Downtown       15219             4   \n",
       "2041 -80.205352        Giant Eagle                       15056             3   \n",
       "\n",
       "      stars state      type  ContainBakeries  \n",
       "107     4.5    PA  business                1  \n",
       "788     3.5    PA  business                1  \n",
       "1163    4.5    PA  business                1  \n",
       "1187    4.0    PA  business                1  \n",
       "2041    1.5    PA  business                1  "
      ]
     },
     "execution_count": 45,
     "metadata": {},
     "output_type": "execute_result"
    }
   ],
   "source": [
    "pd_bakeries_pa.head()"
   ]
  },
  {
   "cell_type": "code",
   "execution_count": 47,
   "metadata": {
    "collapsed": true
   },
   "outputs": [],
   "source": [
    "#Output csv \n",
    "pd_bakeries_pa.to_csv('pd_bakeries_pa.csv',index=False)"
   ]
  },
  {
   "cell_type": "markdown",
   "metadata": {},
   "source": [
    "## Target reviews from bakeries in PA"
   ]
  },
  {
   "cell_type": "code",
   "execution_count": 48,
   "metadata": {},
   "outputs": [
    {
     "data": {
      "text/html": [
       "<div>\n",
       "<table border=\"1\" class=\"dataframe\">\n",
       "  <thead>\n",
       "    <tr style=\"text-align: right;\">\n",
       "      <th></th>\n",
       "      <th>business_id</th>\n",
       "      <th>cool</th>\n",
       "      <th>date</th>\n",
       "      <th>funny</th>\n",
       "      <th>review_id</th>\n",
       "      <th>stars</th>\n",
       "      <th>text</th>\n",
       "      <th>type</th>\n",
       "      <th>useful</th>\n",
       "      <th>user_id</th>\n",
       "    </tr>\n",
       "  </thead>\n",
       "  <tbody>\n",
       "    <tr>\n",
       "      <th>0</th>\n",
       "      <td>2aFiy99vNLklCx3T_tGS9A</td>\n",
       "      <td>0</td>\n",
       "      <td>2011-10-10</td>\n",
       "      <td>0</td>\n",
       "      <td>NxL8SIC5yqOdnlXCg18IBg</td>\n",
       "      <td>5</td>\n",
       "      <td>If you enjoy service by someone who is as comp...</td>\n",
       "      <td>review</td>\n",
       "      <td>0</td>\n",
       "      <td>KpkOkG6RIf4Ra25Lhhxf1A</td>\n",
       "    </tr>\n",
       "    <tr>\n",
       "      <th>1</th>\n",
       "      <td>2aFiy99vNLklCx3T_tGS9A</td>\n",
       "      <td>0</td>\n",
       "      <td>2010-12-29</td>\n",
       "      <td>0</td>\n",
       "      <td>pXbbIgOXvLuTi_SPs1hQEQ</td>\n",
       "      <td>5</td>\n",
       "      <td>After being on the phone with Verizon Wireless...</td>\n",
       "      <td>review</td>\n",
       "      <td>1</td>\n",
       "      <td>bQ7fQq1otn9hKX-gXRsrgA</td>\n",
       "    </tr>\n",
       "    <tr>\n",
       "      <th>2</th>\n",
       "      <td>2aFiy99vNLklCx3T_tGS9A</td>\n",
       "      <td>0</td>\n",
       "      <td>2011-04-29</td>\n",
       "      <td>0</td>\n",
       "      <td>wslW2Lu4NYylb1jEapAGsw</td>\n",
       "      <td>5</td>\n",
       "      <td>Great service! Corey is very service oriented....</td>\n",
       "      <td>review</td>\n",
       "      <td>0</td>\n",
       "      <td>r1NUhdNmL6yU9Bn-Yx6FTw</td>\n",
       "    </tr>\n",
       "    <tr>\n",
       "      <th>3</th>\n",
       "      <td>2LfIuF3_sX6uwe-IR-P0jQ</td>\n",
       "      <td>1</td>\n",
       "      <td>2014-07-14</td>\n",
       "      <td>0</td>\n",
       "      <td>GP6YEearUWrzPtQYSF1vVg</td>\n",
       "      <td>5</td>\n",
       "      <td>Highly recommended. Went in yesterday looking ...</td>\n",
       "      <td>review</td>\n",
       "      <td>0</td>\n",
       "      <td>aW3ix1KNZAvoM8q-WghA3Q</td>\n",
       "    </tr>\n",
       "    <tr>\n",
       "      <th>4</th>\n",
       "      <td>2LfIuF3_sX6uwe-IR-P0jQ</td>\n",
       "      <td>0</td>\n",
       "      <td>2014-01-15</td>\n",
       "      <td>0</td>\n",
       "      <td>25RlYGq2s5qShi-pn3ufVA</td>\n",
       "      <td>4</td>\n",
       "      <td>I walked in here looking for a specific piece ...</td>\n",
       "      <td>review</td>\n",
       "      <td>0</td>\n",
       "      <td>YOo-Cip8HqvKp_p9nEGphw</td>\n",
       "    </tr>\n",
       "  </tbody>\n",
       "</table>\n",
       "</div>"
      ],
      "text/plain": [
       "              business_id  cool        date  funny               review_id  \\\n",
       "0  2aFiy99vNLklCx3T_tGS9A     0  2011-10-10      0  NxL8SIC5yqOdnlXCg18IBg   \n",
       "1  2aFiy99vNLklCx3T_tGS9A     0  2010-12-29      0  pXbbIgOXvLuTi_SPs1hQEQ   \n",
       "2  2aFiy99vNLklCx3T_tGS9A     0  2011-04-29      0  wslW2Lu4NYylb1jEapAGsw   \n",
       "3  2LfIuF3_sX6uwe-IR-P0jQ     1  2014-07-14      0  GP6YEearUWrzPtQYSF1vVg   \n",
       "4  2LfIuF3_sX6uwe-IR-P0jQ     0  2014-01-15      0  25RlYGq2s5qShi-pn3ufVA   \n",
       "\n",
       "   stars                                               text    type  useful  \\\n",
       "0      5  If you enjoy service by someone who is as comp...  review       0   \n",
       "1      5  After being on the phone with Verizon Wireless...  review       1   \n",
       "2      5  Great service! Corey is very service oriented....  review       0   \n",
       "3      5  Highly recommended. Went in yesterday looking ...  review       0   \n",
       "4      4  I walked in here looking for a specific piece ...  review       0   \n",
       "\n",
       "                  user_id  \n",
       "0  KpkOkG6RIf4Ra25Lhhxf1A  \n",
       "1  bQ7fQq1otn9hKX-gXRsrgA  \n",
       "2  r1NUhdNmL6yU9Bn-Yx6FTw  \n",
       "3  aW3ix1KNZAvoM8q-WghA3Q  \n",
       "4  YOo-Cip8HqvKp_p9nEGphw  "
      ]
     },
     "execution_count": 48,
     "metadata": {},
     "output_type": "execute_result"
    }
   ],
   "source": [
    "pd_review.head()"
   ]
  },
  {
   "cell_type": "code",
   "execution_count": 49,
   "metadata": {
    "collapsed": true
   },
   "outputs": [],
   "source": [
    "#Drop text columns \n",
    "pd_review = pd_review.drop(\"text\",axis=1)"
   ]
  },
  {
   "cell_type": "code",
   "execution_count": 50,
   "metadata": {
    "collapsed": true
   },
   "outputs": [],
   "source": [
    "#Filter reviews from bakeries in PA\n",
    "f= pd_bakeries_pa.business_id\n",
    "pd_review_pa = pd_review[pd_review['business_id'].isin(f)]"
   ]
  },
  {
   "cell_type": "code",
   "execution_count": 52,
   "metadata": {},
   "outputs": [
    {
     "name": "stdout",
     "output_type": "stream",
     "text": [
      "Total reviews from bakeries in PA:  4153\n"
     ]
    }
   ],
   "source": [
    "print(\"Total reviews from bakeries in PA: \", len(pd_review_pa))"
   ]
  },
  {
   "cell_type": "code",
   "execution_count": 53,
   "metadata": {
    "collapsed": true
   },
   "outputs": [],
   "source": [
    "#Filter those user_id with only one review\n",
    "pd_review_pa2=pd_review_pa.groupby(\"user_id\").filter(lambda x: len(x) > 2)"
   ]
  },
  {
   "cell_type": "code",
   "execution_count": 62,
   "metadata": {},
   "outputs": [
    {
     "name": "stdout",
     "output_type": "stream",
     "text": [
      "Total reviews by user_id with more than one reivew:  1191\n"
     ]
    }
   ],
   "source": [
    "print(\"Total reviews by user_id with more than one reivew: \" , len(pd_review_pa2))"
   ]
  },
  {
   "cell_type": "code",
   "execution_count": 68,
   "metadata": {},
   "outputs": [
    {
     "name": "stdout",
     "output_type": "stream",
     "text": [
      "Total user_id with review >1:  238\n",
      "No of bakeries business:  139\n"
     ]
    }
   ],
   "source": [
    "print(\"Total user_id with review >1: \" , pd_review_pa2.user_id.nunique())\n",
    "print(\"No of bakeries business: \" ,pd_review_pa2.business_id.nunique())"
   ]
  },
  {
   "cell_type": "code",
   "execution_count": 69,
   "metadata": {
    "collapsed": true
   },
   "outputs": [],
   "source": [
    "#Output csv\n",
    "pd_review_pa2.to_csv('pd_review_pa2.csv',index=False)"
   ]
  },
  {
   "cell_type": "code",
   "execution_count": 72,
   "metadata": {},
   "outputs": [
    {
     "data": {
      "text/plain": [
       "<matplotlib.axes._subplots.AxesSubplot at 0x2b5160f98>"
      ]
     },
     "execution_count": 72,
     "metadata": {},
     "output_type": "execute_result"
    },
    {
     "data": {
      "image/png": "[encoded data removed]",
      "text/plain": [
       "<matplotlib.figure.Figure at 0x2b5663898>"
      ]
     },
     "metadata": {},
     "output_type": "display_data"
    }
   ],
   "source": [
    "#Visualization\n",
    "pd_review_pa2.stars.value_counts().plot(kind='bar',title= \"Stars distribution in reviews\")"
   ]
  }
 ],
 "metadata": {
  "kernelspec": {
   "display_name": "Python 3",
   "language": "python",
   "name": "python3"
  },
  "language_info": {
   "codemirror_mode": {
    "name": "ipython",
    "version": 3
   },
   "file_extension": ".py",
   "mimetype": "text/x-python",
   "name": "python",
   "nbconvert_exporter": "python",
   "pygments_lexer": "ipython3",
   "version": "3.6.4"
  }
 },
 "nbformat": 4,
 "nbformat_minor": 2
}
